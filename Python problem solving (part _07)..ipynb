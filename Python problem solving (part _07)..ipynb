{
 "cells": [
  {
   "cell_type": "markdown",
   "id": "c279b904",
   "metadata": {},
   "source": [
    "# Python problem solving (part _07)"
   ]
  },
  {
   "cell_type": "markdown",
   "id": "1cdc622c",
   "metadata": {},
   "source": [
    "# Nested List Problems:\n",
    "44. Matrix Addition: Write a Python program to add two matrices represented as nested lists."
   ]
  },
  {
   "cell_type": "code",
   "execution_count": 2,
   "id": "4d3e0c15",
   "metadata": {},
   "outputs": [
    {
     "name": "stdout",
     "output_type": "stream",
     "text": [
      "[17, 15, 4]\n",
      "[10, 12, 9]\n",
      "[11, 13, 18]\n"
     ]
    }
   ],
   "source": [
    "# Program to add two matrices using nested loop\n",
    "\n",
    "X = [[12,7,3],\n",
    "    [4 ,5,6],\n",
    "    [7 ,8,9]]\n",
    "\n",
    "Y = [[5,8,1],\n",
    "    [6,7,3],\n",
    "    [4,5,9]]\n",
    "\n",
    "result = [[0,0,0],\n",
    "         [0,0,0],\n",
    "         [0,0,0]]\n",
    "# i used for loop here\n",
    "for i in range(len(X)):\n",
    "   \n",
    "   for j in range(len(X[0])):\n",
    "       result[i][j] = X[i][j] + Y[i][j]\n",
    "\n",
    "for r in result:\n",
    "   print(r)\n"
   ]
  },
  {
   "cell_type": "markdown",
   "id": "b625eca0",
   "metadata": {},
   "source": [
    "# 45. Flatten Nested List: Write a Python program to flatten a given nested list and convert it into a single-dimensional list."
   ]
  },
  {
   "cell_type": "code",
   "execution_count": null,
   "id": "05bdc8de",
   "metadata": {},
   "outputs": [],
   "source": [
    "def flatten_list(nested_list):\n",
    "    flattened_list = []\n",
    "\n",
    "    for sublist in nested_list:\n",
    "        if isinstance(sublist, list):\n",
    "            flattened_list.extend(flatten_list(sublist))\n",
    "        else:\n",
    "            flattened_list.append(sublist)\n",
    "\n",
    "    return flattened_list\n",
    "input_nested_list = input(\"Enter a nested list separated by spaces: \")\n",
    "nested_list = eval(input_nested_list)  # Using eval to convert the input string to a nested list\n",
    "\n",
    "# Flatten the nested list\n",
    "flattened_list = flatten_list(nested_list)\n",
    "print(\"Flattened List:\", flattened_list)\n"
   ]
  },
  {
   "cell_type": "markdown",
   "id": "da65965c",
   "metadata": {},
   "source": [
    "# 46. List Element Frequency: Given a nested list containing lists of integers, write a Python program to count the frequency of each element in the entire nested list."
   ]
  },
  {
   "cell_type": "code",
   "execution_count": null,
   "id": "22274d20",
   "metadata": {},
   "outputs": [],
   "source": [
    "def countList(lst, x):\n",
    "    count = 0\n",
    "    for i in range(len(lst)):\n",
    "        if x in lst[i]:\n",
    "            count+= 1\n",
    "         \n",
    "    return count\n",
    "     \n",
    "# Driver Code\n",
    "lst = (['a'], ['a', 'c', 'b'], ['d']) \n",
    "x = 'a'\n",
    "print(countList(lst, x))"
   ]
  },
  {
   "cell_type": "markdown",
   "id": "45a942a4",
   "metadata": {},
   "source": [
    "# 47. Transpose Matrix: Write a Python program to transpose a given matrix represented as a nested list."
   ]
  },
  {
   "cell_type": "code",
   "execution_count": null,
   "id": "3b8e5542",
   "metadata": {},
   "outputs": [],
   "source": [
    "X = [[12,7],\n",
    "    [4 ,5],\n",
    "    [3 ,8]]\n",
    "\n",
    "result = [[0,0,0],\n",
    "         [0,0,0]]\n",
    "\n",
    "# iterate through rows\n",
    "for i in range(len(X)):\n",
    "   # iterate through columns\n",
    "   for j in range(len(X[0])):\n",
    "       result[j][i] = X[i][j]\n",
    "\n",
    "for r in result:\n",
    "   print(r)"
   ]
  },
  {
   "cell_type": "markdown",
   "id": "5605d317",
   "metadata": {},
   "source": [
    "# 48. List of Lists Concatenation: Given a list of nested lists, write a Python program to concatenate all the sublists into a single flat list.\n",
    "\n",
    " "
   ]
  },
  {
   "cell_type": "code",
   "execution_count": null,
   "id": "16024595",
   "metadata": {},
   "outputs": [],
   "source": [
    "def flatten_nested_lists(nested_list):\n",
    "    flat_list = [element for sublist in nested_list for element in sublist]\n",
    "    return flat_list\n",
    "\n",
    "input_nested_lists = input(\"Enter a list of nested lists separated by spaces: \")\n",
    "nested_lists = eval(input_nested_lists) \n",
    "# Flatten the nested lists\n",
    "flat_result = flatten_nested_lists(nested_lists)\n",
    "print(\"Flattened List:\")\n",
    "print(flat_result)"
   ]
  },
  {
   "cell_type": "code",
   "execution_count": null,
   "id": "b4e1451b",
   "metadata": {},
   "outputs": [],
   "source": []
  }
 ],
 "metadata": {
  "kernelspec": {
   "display_name": "Python 3 (ipykernel)",
   "language": "python",
   "name": "python3"
  },
  "language_info": {
   "codemirror_mode": {
    "name": "ipython",
    "version": 3
   },
   "file_extension": ".py",
   "mimetype": "text/x-python",
   "name": "python",
   "nbconvert_exporter": "python",
   "pygments_lexer": "ipython3",
   "version": "3.11.5"
  }
 },
 "nbformat": 4,
 "nbformat_minor": 5
}
